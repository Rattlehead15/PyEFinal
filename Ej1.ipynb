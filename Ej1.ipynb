{
 "cells": [
  {
   "cell_type": "code",
   "execution_count": 64,
   "metadata": {},
   "outputs": [],
   "source": [
    "from pydtmc import *\n",
    "import numpy as np\n",
    "import matplotlib.pyplot as plt"
   ]
  },
  {
   "cell_type": "markdown",
   "metadata": {},
   "source": [
    "Primero establecemos la probabilidad $p$ y el número de éxitos consecutivos deseados $k$."
   ]
  },
  {
   "cell_type": "code",
   "execution_count": 65,
   "metadata": {},
   "outputs": [],
   "source": [
    "p = 0.3\n",
    "k = 3"
   ]
  },
  {
   "cell_type": "markdown",
   "metadata": {},
   "source": [
    "A partir de estos valores, podemos generar la matriz de transición de nuestra cadena de Markov.\n",
    "\n",
    "Nuestra cadena de Markov tendrá $k+1$ estados, correspondientes a tener 0 éxitos consecutivos, 1 éxito consecutivo, etc, hasta $k$.\n",
    "\n",
    "En un determinado ensayo, tenemos una probabilidad $p$ de pasar de $n$ éxitos a $n+1$ éxitos, y una probabilidad de $1-p$ de volver a 0 éxitos consecutivos.\n",
    "\n",
    "Esto se corresponde (si ordenamos los estados de menor a mayor) a una matriz de transición con $1-p$ en toda la primer columna (salvo en la última fila), y $p$ en las celdas de forma $(i, i+1)$.\n",
    "\n",
    "La última fila, que representa el estado en el que llegamos a los $k$ éxitos consecutivos, representará un estado absorbente.\n",
    "\n",
    "Para un proceso con $p = 0.3$ y $k = 3$, nuestra matriz será"
   ]
  },
  {
   "cell_type": "markdown",
   "metadata": {},
   "source": [
    "$$ P =\n",
    "\\begin{pmatrix}\n",
    "0.7 & 0.3 & 0 & 0 \\\\\n",
    "0.7 & 0 & 0.3 & 0 \\\\\n",
    "0.7 & 0 & 0 & 0.3 \\\\\n",
    "0 & 0 & 0 & 1\n",
    "\\end{pmatrix}\n",
    "$$"
   ]
  },
  {
   "cell_type": "code",
   "execution_count": 66,
   "metadata": {},
   "outputs": [
    {
     "name": "stdout",
     "output_type": "stream",
     "text": [
      "\n",
      "DISCRETE-TIME MARKOV CHAIN\n",
      " SIZE:           4\n",
      " RANK:           4\n",
      " CLASSES:        2\n",
      "  > RECURRENT:   1\n",
      "  > TRANSIENT:   1\n",
      " ERGODIC:        NO\n",
      "  > APERIODIC:   YES\n",
      "  > IRREDUCIBLE: NO\n",
      " ABSORBING:      YES\n",
      " REGULAR:        NO\n",
      " REVERSIBLE:     YES\n",
      " SYMMETRIC:      NO\n",
      "\n"
     ]
    }
   ],
   "source": [
    "t = np.block([\n",
    "     [np.ones((k, 1)) * (1 - p), np.eye(k) * p],\n",
    "     [np.eye(1, k + 1, k)]\n",
    "     ])\n",
    "\n",
    "mc = MarkovChain(t, [f\"{i}\" for i in range(k + 1)])\n",
    "print(mc)"
   ]
  },
  {
   "cell_type": "markdown",
   "metadata": {},
   "source": [
    "Una vez tenemos nuestra cadena, podemos simular transiciones."
   ]
  },
  {
   "cell_type": "code",
   "execution_count": 81,
   "metadata": {},
   "outputs": [],
   "source": [
    "walks = [ mc.walk(1000000, \"0\", str(k)) for _ in range(1000) ]"
   ]
  },
  {
   "cell_type": "markdown",
   "metadata": {},
   "source": [
    "Podemos graficar las distintas caminatas en un histograma"
   ]
  },
  {
   "cell_type": "code",
   "execution_count": 68,
   "metadata": {},
   "outputs": [
    {
     "data": {
      "text/plain": [
       "0"
      ]
     },
     "execution_count": 68,
     "metadata": {},
     "output_type": "execute_result"
    },
    {
     "data": {
      "image/png": "[encoded data removed]",
      "text/plain": [
       "<Figure size 432x288 with 1 Axes>"
      ]
     },
     "metadata": {
      "needs_background": "light"
     },
     "output_type": "display_data"
    }
   ],
   "source": [
    "plt.hist([len(w) for w in walks], np.arange(0, 450, 50))\n",
    "plt.title(f\"Longitud de cadenas cuando p = {p} y k = {k}\")\n",
    "plt.xlabel(\"Ensayos hasta $k$ éxitos consecutivos ($N_k$)\")\n",
    "plt.ylabel(\"Cantidad de cadenas\")\n",
    "# plt.show()\n",
    "a = [len(w) for w in walks]\n",
    "len([x for x in a if x < 400 and x >= 350])"
   ]
  },
  {
   "cell_type": "markdown",
   "metadata": {},
   "source": [
    "Por último, podemos estimar el valor esperado de la cantidad de ensayos necesarios calculando el promedio de las longitudes de las cadenas"
   ]
  },
  {
   "cell_type": "code",
   "execution_count": 82,
   "metadata": {},
   "outputs": [
    {
     "data": {
      "text/plain": [
       "50.999"
      ]
     },
     "execution_count": 82,
     "metadata": {},
     "output_type": "execute_result"
    }
   ],
   "source": [
    "np.mean([ len(w) for w in walks ])"
   ]
  },
  {
   "cell_type": "markdown",
   "metadata": {},
   "source": [
    "También podemos sacarlo analíticamente"
   ]
  },
  {
   "cell_type": "code",
   "execution_count": 76,
   "metadata": {},
   "outputs": [
    {
     "data": {
      "text/plain": [
       "51.48148148148103"
      ]
     },
     "execution_count": 76,
     "metadata": {},
     "output_type": "execute_result"
    }
   ],
   "source": [
    "terms = 1000000\n",
    "f = [[None for _ in range(k+1)] for _ in range(terms)]\n",
    "def efe(n, i):\n",
    "  if f[n-1][i] is not None:\n",
    "    return f[n-1][i]\n",
    "  if n == 1:\n",
    "    f[n-1][i] = t[i][k]\n",
    "  elif i == k - 1:\n",
    "    f[n-1][i] = (1-p)*efe(n-1, 0)\n",
    "  else:\n",
    "    f[n-1][i] = p*(efe(n-1, i+1)) + (1 - p) * efe(n-1, 0)\n",
    "  return f[n-1][i]\n",
    "sum((i+1) * efe(i+1, 0) for i in range(terms))"
   ]
  }
 ],
 "metadata": {
  "interpreter": {
   "hash": "1a5e621a227e41438fdc094e4b021d7ecbe3ccbfd366709e0854cd21cd5b5a23"
  },
  "kernelspec": {
   "display_name": "Python 3.10.2 ('.venv': venv)",
   "language": "python",
   "name": "python3"
  },
  "language_info": {
   "codemirror_mode": {
    "name": "ipython",
    "version": 3
   },
   "file_extension": ".py",
   "mimetype": "text/x-python",
   "name": "python",
   "nbconvert_exporter": "python",
   "pygments_lexer": "ipython3",
   "version": "3.10.2"
  },
  "orig_nbformat": 4
 },
 "nbformat": 4,
 "nbformat_minor": 2
}
