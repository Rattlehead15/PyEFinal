{
 "cells": [
  {
   "cell_type": "code",
   "execution_count": 25,
   "metadata": {},
   "outputs": [
    {
     "name": "stdout",
     "output_type": "stream",
     "text": [
      "7.39574\n"
     ]
    }
   ],
   "source": [
    "import random\n",
    "\n",
    "def quicksort(arr):\n",
    "  if len(arr) < 2:\n",
    "    return arr, 0\n",
    "  arr1 = []\n",
    "  arr2 = []\n",
    "  p = random.randint(0, len(arr) - 1)\n",
    "  for i in range(len(arr)):\n",
    "    if i == p:\n",
    "      continue\n",
    "    elif arr[i] <= arr[p]:\n",
    "      arr1.append(arr[i])\n",
    "    else:\n",
    "      arr2.append(arr[i])\n",
    "  l, cl = quicksort(arr1)\n",
    "  r, cr = quicksort(arr2)\n",
    "  return (l + [arr[p]] + r, cl + cr + len(arr) - 1)\n",
    "\n",
    "avg = 0\n",
    "for i in range(100000):\n",
    "  _, c = quicksort([5,2,3,4,1])\n",
    "  avg += c\n",
    "print(avg / 100000)"
   ]
  }
 ],
 "metadata": {
  "interpreter": {
   "hash": "0cb36ded4b60e088386f67bf6138d5d6153f00787ced7fb3a36d6b14350f2d5d"
  },
  "kernelspec": {
   "display_name": "Python 3.10.2 ('.venv': venv)",
   "language": "python",
   "name": "python3"
  },
  "language_info": {
   "codemirror_mode": {
    "name": "ipython",
    "version": 3
   },
   "file_extension": ".py",
   "mimetype": "text/x-python",
   "name": "python",
   "nbconvert_exporter": "python",
   "pygments_lexer": "ipython3",
   "version": "3.10.2"
  },
  "orig_nbformat": 4
 },
 "nbformat": 4,
 "nbformat_minor": 2
}
