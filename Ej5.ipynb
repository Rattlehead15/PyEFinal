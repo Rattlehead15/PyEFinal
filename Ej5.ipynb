{
 "cells": [
  {
   "cell_type": "code",
   "execution_count": 1,
   "metadata": {},
   "outputs": [],
   "source": [
    "from pydtmc import *\n",
    "import numpy as np\n",
    "import scipy.linalg as sp"
   ]
  },
  {
   "cell_type": "markdown",
   "metadata": {},
   "source": [
    "Para simular la caminata aleatoria, consideraremos una cadena de Markov cuya matriz de transición se basa en el grafo. Como la probabilidad de pasar de una página a otra que tenga un enlace a ella es igual para todos los enlaces de la primer página, las entradas de una determinada fila $i$ serán 0 o $\\frac{1}{e_i}$, donde $e_i$ es la cantidad de enlaces salientes desde el $i$-ésimo estado."
   ]
  },
  {
   "cell_type": "markdown",
   "metadata": {},
   "source": [
    "El último estado en particular es problemático, ya que no tiene enlaces saliendo de él. Por esta razón nuestra matriz no describe una cadena de Markov. Para solucionar esto consideraremos que hay una probabilidad igual de ir desde esta página hacia cualquier otra."
   ]
  },
  {
   "cell_type": "markdown",
   "metadata": {},
   "source": [
    "Entonces, para la red de la Figura 1, la matriz de transición será (si ordenamos los estados alfabéticamente)\n",
    "\n",
    "$$P = \\begin{pmatrix}\n",
    "0 & 0 & 0 & 0 & \\frac{1}{2} & \\frac{1}{2} & 0 \\\\\n",
    "\\frac{1}{3} & 0 & \\frac{1}{3} & 0 & 0 & \\frac{1}{3} & 0 \\\\\n",
    "0 & 0 & 0 & \\frac{1}{2} & 0 & \\frac{1}{2} & 0 \\\\\n",
    "0 & 0 & 0 & 0 & 0 & 1 & 0 \\\\\n",
    "\\frac{1}{4} & 0 & 0 & \\frac{1}{4} & 0 & \\frac{1}{4} & \\frac{1}{4} \\\\\n",
    "\\frac{1}{2} & \\frac{1}{2} & 0 & 0 & 0 & 0 & 0 \\\\\n",
    "\\frac{1}{6} & \\frac{1}{6} & \\frac{1}{6} & \\frac{1}{6} & \\frac{1}{6} & \\frac{1}{6} & 0\\\\\n",
    "\\end{pmatrix}$$"
   ]
  },
  {
   "cell_type": "code",
   "execution_count": 2,
   "metadata": {},
   "outputs": [
    {
     "data": {
      "image/png": "[encoded data removed]",
      "text/plain": [
       "<Figure size 600x400 with 1 Axes>"
      ]
     },
     "metadata": {
      "needs_background": "light"
     },
     "output_type": "display_data"
    }
   ],
   "source": [
    "p = [\n",
    "  [0,0,0,0,1/2,1/2,0],\n",
    "  [1/3,0,1/3,0,0,1/3,0],\n",
    "  [0,0,0,1/2,0,1/2,0],\n",
    "  [0,0,0,0,0,1,0],\n",
    "  [1/4,0,0,1/4,0,1/4,1/4],\n",
    "  [1/2,1/2,0,0,0,0,0],\n",
    "  [1/6,1/6,1/6,1/6,1/6,1/6,0],\n",
    " ]\n",
    "\n",
    "mc = MarkovChain(p, ['a', 'b', 'c', 'd', 'e', 'f', 'g'])\n",
    "plot_walk(mc, 100)"
   ]
  },
  {
   "cell_type": "markdown",
   "metadata": {},
   "source": [
    "Para calcular el rango de cada página, debemos encontrar la distribución límite. Para esto, debemos buscar el vector $\\pi$ que cumpla\n",
    "\n",
    "$$ \\pi P = \\pi $$\n",
    "$$ \\sum_{i=1}^7 \\pi_i = 1"
   ]
  },
  {
   "cell_type": "markdown",
   "metadata": {},
   "source": [
    "Transponiendo ambos lados de la primer ecuación, tenemos\n",
    "\n",
    "$$ P^T \\pi^T = \\pi^T $$\n",
    "\n",
    "Luego, debemos encontrar el autovector asociado a $\\lambda=1$ de $P^T$. Para esto, planteamos\n",
    "\n",
    "$$(P^T - I)\\pi = 0$$\n",
    "\n",
    "Resolviendo este sistema llegamos a\n",
    "\n",
    "$$ \\pi \\simeq \\begin{pmatrix} 0.25 & 0.16 & 0.06 & 0.07 & 0.13 & 0.31 & 0.03 \\end{pmatrix}$$"
   ]
  },
  {
   "cell_type": "code",
   "execution_count": 4,
   "metadata": {},
   "outputs": [
    {
     "data": {
      "text/plain": [
       "array([0.24533333, 0.16      , 0.05866667, 0.06666667, 0.128     ,\n",
       "       0.30933333, 0.032     ])"
      ]
     },
     "execution_count": 4,
     "metadata": {},
     "output_type": "execute_result"
    }
   ],
   "source": [
    "v = np.transpose(sp.null_space(np.transpose(p) - np.eye(7)))[0]\n",
    "v / sum(v)"
   ]
  }
 ],
 "metadata": {
  "interpreter": {
   "hash": "0cb36ded4b60e088386f67bf6138d5d6153f00787ced7fb3a36d6b14350f2d5d"
  },
  "kernelspec": {
   "display_name": "Python 3.10.2 ('.venv': venv)",
   "language": "python",
   "name": "python3"
  },
  "language_info": {
   "codemirror_mode": {
    "name": "ipython",
    "version": 3
   },
   "file_extension": ".py",
   "mimetype": "text/x-python",
   "name": "python",
   "nbconvert_exporter": "python",
   "pygments_lexer": "ipython3",
   "version": "3.10.2"
  },
  "orig_nbformat": 4
 },
 "nbformat": 4,
 "nbformat_minor": 2
}
